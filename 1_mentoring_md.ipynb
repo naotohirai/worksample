{
  "nbformat": 4,
  "nbformat_minor": 0,
  "metadata": {
    "colab": {
      "name": "1_mentoring.md.ipynb",
      "provenance": [],
      "authorship_tag": "ABX9TyOhSHlDAindmn4kojHDP7wj",
      "include_colab_link": true
    },
    "kernelspec": {
      "name": "python3",
      "display_name": "Python 3"
    }
  },
  "cells": [
    {
      "cell_type": "markdown",
      "metadata": {
        "id": "view-in-github",
        "colab_type": "text"
      },
      "source": [
        "<a href=\"https://colab.research.google.com/github/naotohirai/worksample/blob/master/1_mentoring_md.ipynb\" target=\"_parent\"><img src=\"https://colab.research.google.com/assets/colab-badge.svg\" alt=\"Open In Colab\"/></a>"
      ]
    },
    {
      "cell_type": "markdown",
      "metadata": {
        "id": "25kR4nw1CoUC",
        "colab_type": "text"
      },
      "source": [
        "**メンタリング質問対応**\n",
        "\n",
        "直接、手順や答えを言ってしまうのではなく、少しずつヒントを出しつつ自ら原因に気づいていただく方法をとりたいと思います。\n",
        "\n",
        "１．変数で表示しているa、bの配列がどのような配列であるか紙に書いてもらう。\n",
        "\n",
        "２．書いてある配列がa、bともに「1行３列」であった場合、手書きでのかけ算をしていただき、そもそもかけ算ができないことを知ってもらう。➔４\n",
        "\n",
        "３．2の段階でなぜかけ算ができないか分からない、という場合は簡単な例題をこちらで出し、知っていただく。\n",
        "\n",
        "４．変数bの配列について、この段階で「3行1列」でないといけないことが分かると思います。どのようにかけば、表せるか調べてもらう。\n",
        "\n",
        "以上になります。よろしくお願いいたします。\n"
      ]
    }
  ]
}