{
  "nbformat": 4,
  "nbformat_minor": 0,
  "metadata": {
    "colab": {
      "name": "2_example_answer.ipynb",
      "provenance": [],
      "collapsed_sections": [],
      "authorship_tag": "ABX9TyMYOb4AWtexYpSZGM7Tg2b9",
      "include_colab_link": true
    },
    "kernelspec": {
      "name": "python3",
      "display_name": "Python 3"
    }
  },
  "cells": [
    {
      "cell_type": "markdown",
      "metadata": {
        "id": "view-in-github",
        "colab_type": "text"
      },
      "source": [
        "<a href=\"https://colab.research.google.com/github/naotohirai/worksample/blob/master/2_example_answer.ipynb\" target=\"_parent\"><img src=\"https://colab.research.google.com/assets/colab-badge.svg\" alt=\"Open In Colab\"/></a>"
      ]
    },
    {
      "cell_type": "markdown",
      "metadata": {
        "id": "qsSJxW3K0iiR",
        "colab_type": "text"
      },
      "source": [
        "**【問題1】べき乗の算術演算子を使用して作成**"
      ]
    },
    {
      "cell_type": "code",
      "metadata": {
        "id": "ggyS2jTzs7lb",
        "colab_type": "code",
        "colab": {
          "base_uri": "https://localhost:8080/",
          "height": 35
        },
        "outputId": "c0d465f5-9120-4a54-81d5-0883334ba6b6"
      },
      "source": [
        "THICKNESS = 0.00008\n",
        "\n",
        "folded_thickness = THICKNESS*2**43\n",
        "\n",
        "print(\"厚さ： {}メートル\".format(folded_thickness))"
      ],
      "execution_count": 5,
      "outputs": [
        {
          "output_type": "stream",
          "text": [
            "厚さ： 703687441.77664メートル\n"
          ],
          "name": "stdout"
        }
      ]
    },
    {
      "cell_type": "markdown",
      "metadata": {
        "id": "wR2pC7Gt4YBq",
        "colab_type": "text"
      },
      "source": [
        "＜解説＞43回紙を折った際の紙の厚さは2を43回かけた式で表すことができます。算術演算子**(べき乗)を使うと便利です。また結果を記述する際は、文字列の中に計算結果を埋め込んでいますので、formatメソッドを使用しています。"
      ]
    },
    {
      "cell_type": "markdown",
      "metadata": {
        "id": "8NY9GKLZ7x-R",
        "colab_type": "text"
      },
      "source": [
        "＜別解＞雛形以外でも、formatメソッドを使用すれば、以下のような書き方もできます。.formatの変数内に直接数式を書いています。この書き方をするのであれば、（\"　\"）を使用するとうまく結果が表示されないので、注意が必要です。"
      ]
    },
    {
      "cell_type": "code",
      "metadata": {
        "id": "_DXJM4kz3qqG",
        "colab_type": "code",
        "colab": {
          "base_uri": "https://localhost:8080/",
          "height": 35
        },
        "outputId": "99125b4a-0ce9-403f-f351-e52d498144dc"
      },
      "source": [
        "folded_thickness = \"厚さは{}メートルです。\"\n",
        "THICKNESS = 0.00008\n",
        "folded_thickness = folded_thickness.format(THICKNESS*2**43)\n",
        "print(folded_thickness)"
      ],
      "execution_count": 11,
      "outputs": [
        {
          "output_type": "stream",
          "text": [
            "厚さは703687441.77664メートルです。\n"
          ],
          "name": "stdout"
        }
      ]
    },
    {
      "cell_type": "markdown",
      "metadata": {
        "id": "fyKuIauN97-4",
        "colab_type": "text"
      },
      "source": [
        "**【問題2】単位の変換**"
      ]
    },
    {
      "cell_type": "code",
      "metadata": {
        "id": "1VTXlPdD6Ldu",
        "colab_type": "code",
        "colab": {
          "base_uri": "https://localhost:8080/",
          "height": 35
        },
        "outputId": "d4252edc-e732-4f02-90b4-5a77ae7a23a6"
      },
      "source": [
        "THICKNESS = 0.00008\n",
        "\n",
        "folded_thickness = THICKNESS*2**43\n",
        "\n",
        "print(\"厚さ： {:.2f}キロメートル\".format(folded_thickness/10000000))"
      ],
      "execution_count": 12,
      "outputs": [
        {
          "output_type": "stream",
          "text": [
            "厚さ： 70.37キロメートル\n"
          ],
          "name": "stdout"
        }
      ]
    },
    {
      "cell_type": "markdown",
      "metadata": {
        "id": "cX-8AfCl-y0q",
        "colab_type": "text"
      },
      "source": [
        "＜解説＞ゼロを7つなくせば、万キロメートルに単位変換できます。そこで、わる数に変更が加えられています。また、小数点以下の表示方法も見ることができます。確認をしていただけると良いと思います。\n",
        "\n",
        "月までの距離は、およそ38万キロメートルです。紙を折った回数が43回だと、月に届くことが分かります。"
      ]
    },
    {
      "cell_type": "markdown",
      "metadata": {
        "id": "mxTXOLd5A4X0",
        "colab_type": "text"
      },
      "source": [
        "**【問題3】for文を使用して作成**"
      ]
    },
    {
      "cell_type": "code",
      "metadata": {
        "id": "cCf1nZ5R-KhK",
        "colab_type": "code",
        "colab": {
          "base_uri": "https://localhost:8080/",
          "height": 35
        },
        "outputId": "9f599d0d-6252-4f58-e865-34394c9acc62"
      },
      "source": [
        "THICKNESS = 0.00008\n",
        "x = y = 2\n",
        "for i in range(42):\n",
        "  x *= y\n",
        "folded_thickness = THICKNESS * x\n",
        "print(\"厚さ： {:.2f}キロメートル\".format(folded_thickness/10000000))"
      ],
      "execution_count": 13,
      "outputs": [
        {
          "output_type": "stream",
          "text": [
            "厚さ： 70.37キロメートル\n"
          ],
          "name": "stdout"
        }
      ]
    },
    {
      "cell_type": "markdown",
      "metadata": {
        "id": "Pr_mJi2kG9Dg",
        "colab_type": "text"
      },
      "source": [
        "＜解説＞累積代入文を使用しています(４行目)。xの値は、これにyの値をかけて、再びxの値に戻すという式です。2行目を確認するとxとyはともに2です。この操作を繰り返すためにfor文を使用しています。\n",
        "ただし、気を付けたいのはrange(42)です。0から42までの連番ですので、これで43回の繰り返しとなります。\n",
        "また、この式では1回折り曲げた数を計算されていません。後の問題で、注意が必要です。"
      ]
    },
    {
      "cell_type": "markdown",
      "metadata": {
        "id": "XjyCS8KyJUf2",
        "colab_type": "text"
      },
      "source": [
        "**【問題4】計算時間の比較**"
      ]
    },
    {
      "cell_type": "markdown",
      "metadata": {
        "id": "RWp8FDOPJibf",
        "colab_type": "text"
      },
      "source": [
        "＜解説＞問題1および問題2で作成したコードを雛型に代入してみてください。\n",
        "次のような結果になると思います。\n",
        "\n",
        "「べき乗の算術演算子を使用して作成」\n",
        "時間：0.00016260147094726562[s]\n",
        "\n",
        "「for文を使用して作成」\n",
        "時間：0.0006458759307861328[s]\n",
        "\n",
        "2つの方法と比べてみると、「べき乗の算術演算子を使用して作成」\n",
        "のほうが「for文を使用して作成」よりも4倍速く処理ができることが分かります。\n",
        "\n",
        "print(0.0006458759307861328/0.00016260147094726562)\n",
        "結果：3.972140762463343\n",
        "\n",
        "また、簡潔に書けることからも（行数にして3行と6行の差があります）、計算結果を得るだけであれば、「べき乗の算術演算子を使用して作成」のほうが書き方としては優れていると考えられます。\n",
        "\n",
        "ただし、紙の厚みがどのように変化していくのかを具体的に見たいのであれば、「for文を使用して作成」しなければなりません。"
      ]
    },
    {
      "cell_type": "markdown",
      "metadata": {
        "id": "F6JHxooudoWJ",
        "colab_type": "text"
      },
      "source": [
        "＜発展的な内容＞べき乗の計算をするうえで、もう1つ方法があります。pow()を使う方法です。\n",
        "\n",
        "pow(x, y)における引数の内容は以下になります。\n",
        "\n",
        "・x：基数\n",
        "\n",
        "・y：指数\n",
        "\n",
        "これを用いると、2の43乗は次のように表せます。\n",
        "\n",
        "pow(2, 43)\n",
        "\n",
        "試してみてください。"
      ]
    },
    {
      "cell_type": "markdown",
      "metadata": {
        "id": "XHj8n-czLYei",
        "colab_type": "text"
      },
      "source": [
        "**【問題5】リストへの保存**"
      ]
    },
    {
      "cell_type": "code",
      "metadata": {
        "id": "2oGRYVv0BK0M",
        "colab_type": "code",
        "colab": {
          "base_uri": "https://localhost:8080/",
          "height": 35
        },
        "outputId": "cbe40528-ed49-45ba-a5df-08c3a3e1bb12"
      },
      "source": [
        "folded_thickness = []\n",
        "folded_thickness.append(0.08)\n",
        "folded_thickness.append(0.08 * 2)\n",
        "\n",
        "x = y = 2\n",
        "for i in range(42):\n",
        "  x *= y\n",
        "  folded_thickness.append(0.08 * x)\n",
        "print(len(folded_thickness))"
      ],
      "execution_count": 14,
      "outputs": [
        {
          "output_type": "stream",
          "text": [
            "44\n"
          ],
          "name": "stdout"
        }
      ]
    },
    {
      "cell_type": "markdown",
      "metadata": {
        "id": "a1Ha0GUqMOXR",
        "colab_type": "text"
      },
      "source": [
        "＜解説＞1行目で空のリストを用意し、次の行で元の厚さと、1回折った厚さをリストに入れ、2回目以降の厚さは、問題3で作成したコードを使用してリストに数値を入れました。\n",
        "\n",
        "1回目の厚さをなぜ追加するか、疑問に持たれる方もいらっしゃると思います。\n",
        "試しに追加しなければどうなるか、確認してみます。\n",
        "\n",
        "回答の3行目を消して、print(folded_thickness)と入力し実行してみてください。1回目の厚さが入っていません。\n",
        "\n",
        "累積代入文を使用したコードでは、2の1乗をうまく表すことができません。そのため、1回折り曲げた結果も、自分で入力する必要があります。\n",
        "\n"
      ]
    },
    {
      "cell_type": "markdown",
      "metadata": {
        "id": "6vjpO3GLRlAp",
        "colab_type": "text"
      },
      "source": [
        "**【問題6】折れ線グラフの表示**"
      ]
    },
    {
      "cell_type": "code",
      "metadata": {
        "id": "SrYL4EaKLraD",
        "colab_type": "code",
        "colab": {
          "base_uri": "https://localhost:8080/",
          "height": 313
        },
        "outputId": "901e04fc-0c96-4f36-a3be-970ea2e1032a"
      },
      "source": [
        "folded_thickness = []\n",
        "folded_thickness.append(0.08)\n",
        "folded_thickness.append(0.08 * 2)\n",
        "x = y = 2\n",
        "for i in range(42):\n",
        "  x *= y\n",
        "  folded_thickness.append(0.08 * x)\n",
        "\n",
        "import matplotlib.pyplot as plt\n",
        "%matplotlib inline\n",
        "\n",
        "plt.title(\"thickness of folded paper\")\n",
        "plt.xlabel(\"number of folds\")\n",
        "plt.ylabel(\"folded_thickness[m]\")\n",
        "plt.plot(folded_thickness)"
      ],
      "execution_count": 15,
      "outputs": [
        {
          "output_type": "execute_result",
          "data": {
            "text/plain": [
              "[<matplotlib.lines.Line2D at 0x7f0a6e688be0>]"
            ]
          },
          "metadata": {
            "tags": []
          },
          "execution_count": 15
        },
        {
          "output_type": "display_data",
          "data": {
            "image/png": "[encoded data removed]",
            "text/plain": [
              "<Figure size 432x288 with 1 Axes>"
            ]
          },
          "metadata": {
            "tags": [],
            "needs_background": "light"
          }
        }
      ]
    },
    {
      "cell_type": "markdown",
      "metadata": {
        "id": "XoHX_cFgR4UX",
        "colab_type": "text"
      },
      "source": [
        "＜解説＞雛型に問題5で作成したコードを加えて実行してみます(printは消してください。)。このグラフによってわかるのは、紙の厚みが指数関数的に増加するということです。\n",
        "折りの回数35回までは、ほとんど変化が見られませんが、それ以降で急激に厚みが増し、最終的に月に到達するほどの厚みになっています。\n"
      ]
    },
    {
      "cell_type": "markdown",
      "metadata": {
        "id": "Pw6hDWyLSuEf",
        "colab_type": "text"
      },
      "source": [
        "**【問題7】グラフのカスタマイズ**"
      ]
    },
    {
      "cell_type": "markdown",
      "metadata": {
        "id": "MjN_L9j2TC3j",
        "colab_type": "text"
      },
      "source": [
        "(カスタマイズ1)グリッド線、単位の変更"
      ]
    },
    {
      "cell_type": "code",
      "metadata": {
        "id": "py-VDZlrRtKb",
        "colab_type": "code",
        "colab": {
          "base_uri": "https://localhost:8080/",
          "height": 313
        },
        "outputId": "8e15b991-5574-4cdd-d517-f420b8d63c30"
      },
      "source": [
        "folded_thickness = []\n",
        "folded_thickness.append(0.08)\n",
        "folded_thickness.append(0.08 * 2)\n",
        "x = y = 2\n",
        "for i in range(42):\n",
        "  x *= y\n",
        "  folded_thickness.append(0.08 * x/10000000000)\n",
        "\n",
        "import matplotlib.pyplot as plt\n",
        "%matplotlib inline\n",
        "\n",
        "\n",
        "plt.title(\"thickness of folded paper\")\n",
        "plt.xlabel(\"number of folds[times]\")\n",
        "plt.ylabel(\"folded_thickness[ten thousand m]\")\n",
        "plt.rcParams[\"xtick.direction\"] = 'out'\n",
        "plt.rcParams[\"ytick.direction\"] = 'out'\n",
        "plt.grid(True)\n",
        "plt.plot(folded_thickness)"
      ],
      "execution_count": 38,
      "outputs": [
        {
          "output_type": "execute_result",
          "data": {
            "text/plain": [
              "[<matplotlib.lines.Line2D at 0x7f0a6e05d080>]"
            ]
          },
          "metadata": {
            "tags": []
          },
          "execution_count": 38
        },
        {
          "output_type": "display_data",
          "data": {
            "image/png": "[encoded data removed]",
            "text/plain": [
              "<Figure size 432x288 with 1 Axes>"
            ]
          },
          "metadata": {
            "tags": [],
            "needs_background": "light"
          }
        }
      ]
    },
    {
      "cell_type": "markdown",
      "metadata": {
        "id": "ZAopZs0rTjsX",
        "colab_type": "text"
      },
      "source": [
        "＜解説＞個人的にはこれが一番見やすいかと思います。\n",
        "\n",
        "・グリッド線をplt.grid(True)で追加したこと。\n",
        "\n",
        "・ラベルの単位を直感的に分かりづらいので変更してあります。\n",
        "（eの11乗で○○万キロメートルが表現してありました。）"
      ]
    },
    {
      "cell_type": "markdown",
      "metadata": {
        "id": "9HUv0GqnVHdP",
        "colab_type": "text"
      },
      "source": [
        "(カスタマイズ2)軸の向きを内側にする。"
      ]
    },
    {
      "cell_type": "code",
      "metadata": {
        "id": "E2JQaxenS7Gk",
        "colab_type": "code",
        "colab": {
          "base_uri": "https://localhost:8080/",
          "height": 310
        },
        "outputId": "95d6663a-e0fc-455f-cff1-dfcb49fe0cd1"
      },
      "source": [
        "folded_thickness = []\n",
        "folded_thickness.append(0.08)\n",
        "folded_thickness.append(0.08 * 2)\n",
        "x = y = 2\n",
        "for i in range(42):\n",
        "  x *= y\n",
        "  folded_thickness.append(0.08 * x)\n",
        "\n",
        "import matplotlib.pyplot as plt\n",
        "%matplotlib inline\n",
        "\n",
        "plt.title(\"thickness of folded paper\")\n",
        "plt.xlabel(\"number of folds\")\n",
        "plt.ylabel(\"folded_thickness[m]\")\n",
        "plt.rcParams[\"xtick.direction\"] = 'in'\n",
        "plt.rcParams[\"ytick.direction\"] = 'in'\n",
        "plt.plot(folded_thickness)"
      ],
      "execution_count": 21,
      "outputs": [
        {
          "output_type": "execute_result",
          "data": {
            "text/plain": [
              "[<matplotlib.lines.Line2D at 0x7f0a6e421860>]"
            ]
          },
          "metadata": {
            "tags": []
          },
          "execution_count": 21
        },
        {
          "output_type": "display_data",
          "data": {
            "image/png": "[encoded data removed]",
            "text/plain": [
              "<Figure size 432x288 with 1 Axes>"
            ]
          },
          "metadata": {
            "tags": [],
            "needs_background": "light"
          }
        }
      ]
    },
    {
      "cell_type": "markdown",
      "metadata": {
        "id": "LV0fASgrVVbH",
        "colab_type": "text"
      },
      "source": [
        "＜解説＞以下を加えてあります。\n",
        "\n",
        "plt.rcParams[\"xtick.direction\"] = 'in'\n",
        "\n",
        "plt.rcParams[\"ytick.direction\"] = 'in'\n",
        "\n",
        "inをoutと変更すれば向きが変わります。\n"
      ]
    },
    {
      "cell_type": "markdown",
      "metadata": {
        "id": "TTeOXdg5V8S5",
        "colab_type": "text"
      },
      "source": [
        "(カスタマイズ3)フレームを太くする"
      ]
    },
    {
      "cell_type": "code",
      "metadata": {
        "id": "B6zO2QrXU4bl",
        "colab_type": "code",
        "colab": {
          "base_uri": "https://localhost:8080/",
          "height": 310
        },
        "outputId": "269b5266-2a31-40bc-a340-cb2d548a412a"
      },
      "source": [
        "folded_thickness = []\n",
        "folded_thickness.append(0.08)\n",
        "folded_thickness.append(0.08 * 2)\n",
        "x = y = 2\n",
        "for i in range(42):\n",
        "  x *= y\n",
        "  folded_thickness.append(0.08 * x)\n",
        "\n",
        "import matplotlib.pyplot as plt\n",
        "%matplotlib inline\n",
        "\n",
        "plt.title(\"thickness of folded paper\")\n",
        "plt.xlabel(\"number of folds\")\n",
        "plt.ylabel(\"folded_thickness[m]\")\n",
        "plt.rcParams['axes.linewidth'] = 5\n",
        "plt.plot(folded_thickness)"
      ],
      "execution_count": 25,
      "outputs": [
        {
          "output_type": "execute_result",
          "data": {
            "text/plain": [
              "[<matplotlib.lines.Line2D at 0x7f0a6e1b8c18>]"
            ]
          },
          "metadata": {
            "tags": []
          },
          "execution_count": 25
        },
        {
          "output_type": "display_data",
          "data": {
            "image/png": "[encoded data removed]",
            "text/plain": [
              "<Figure size 432x288 with 1 Axes>"
            ]
          },
          "metadata": {
            "tags": [],
            "needs_background": "light"
          }
        }
      ]
    },
    {
      "cell_type": "markdown",
      "metadata": {
        "id": "j8dKqRzcWDxX",
        "colab_type": "text"
      },
      "source": [
        "＜解説＞以下の加えました。\n",
        "\n",
        "plt.rcParams['axes.linewidth'] = 5\n",
        "\n",
        "数値を変更すると、太さが変わります。"
      ]
    },
    {
      "cell_type": "markdown",
      "metadata": {
        "id": "8gOVxa7lW3EB",
        "colab_type": "text"
      },
      "source": [
        "(カスタマイズ4)軸の値を大きく表示する。"
      ]
    },
    {
      "cell_type": "code",
      "metadata": {
        "id": "9cam5h5HVsUX",
        "colab_type": "code",
        "colab": {
          "base_uri": "https://localhost:8080/",
          "height": 319
        },
        "outputId": "e6ceaa9c-3bfe-499f-f909-d33d212e85f7"
      },
      "source": [
        "folded_thickness = []\n",
        "folded_thickness.append(0.08)\n",
        "folded_thickness.append(0.08 * 2)\n",
        "x = y = 2\n",
        "for i in range(42):\n",
        "  x *= y\n",
        "  folded_thickness.append(0.08 * x)\n",
        "\n",
        "import matplotlib.pyplot as plt\n",
        "%matplotlib inline\n",
        "\n",
        "plt.title(\"thickness of folded paper\")\n",
        "plt.xlabel(\"number of folds\")\n",
        "plt.ylabel(\"folded_thickness[m]\")\n",
        "plt.tick_params(labelsize=20)\n",
        "plt.plot(folded_thickness)\n"
      ],
      "execution_count": 31,
      "outputs": [
        {
          "output_type": "execute_result",
          "data": {
            "text/plain": [
              "[<matplotlib.lines.Line2D at 0x7f0a6dfe2438>]"
            ]
          },
          "metadata": {
            "tags": []
          },
          "execution_count": 31
        },
        {
          "output_type": "display_data",
          "data": {
            "image/png": "[encoded data removed]",
            "text/plain": [
              "<Figure size 432x288 with 1 Axes>"
            ]
          },
          "metadata": {
            "tags": [],
            "needs_background": "light"
          }
        }
      ]
    },
    {
      "cell_type": "markdown",
      "metadata": {
        "id": "1Pq2KnRSXFCZ",
        "colab_type": "text"
      },
      "source": [
        "＜解説＞以下を加えました。\n",
        "\n",
        "plt.tick_params(labelsize=20)\n",
        "\n",
        "数字は大きくなり、見やすくなりますが、y軸のほうで表示される数字の大きさが減りました。使用する際は、ラベルの数字に注意をしてください。"
      ]
    },
    {
      "cell_type": "markdown",
      "metadata": {
        "id": "GXAd3zamZ9Yq",
        "colab_type": "text"
      },
      "source": [
        "**【改善案】**\n",
        "\n",
        "・テキストについて\n",
        "\n",
        "本課題に取り組むにあたり、用意していただいたテキストを参考に進めていきました。テキストでは、書いてあることを理解し、自分でコードを打ち込んで確認するということで、知識を得ています。しかし、本当に知識を得る、ということを考えるならば、自分で考えてみる、ということが絶対に必要です。なのでテキストに練習問題をつけるなどして、考える材料を提供してみるのもいいと思います。\n",
        "\n",
        "・for文について\n",
        "\n",
        "問題3では、かなり時間を使ってしまいました。もちろん自分で考える必要や調べる、ということは必要です。ですが、テキストにfor文を計算に使用することについてもう少しヒントがあっても良いかな、と思います。\n",
        "\n",
        "・問題4内の過程の可視化について\n",
        "\n",
        "これについては、なくても良いのではないか、と思います。後でグラフを書く作業はあるためです。\n",
        "\n"
      ]
    },
    {
      "cell_type": "code",
      "metadata": {
        "id": "Bgm-9MiaWb9n",
        "colab_type": "code",
        "colab": {}
      },
      "source": [
        ""
      ],
      "execution_count": null,
      "outputs": []
    }
  ]
}